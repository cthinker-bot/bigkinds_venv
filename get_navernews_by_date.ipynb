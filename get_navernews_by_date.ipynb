{
 "cells": [
  {
   "cell_type": "code",
   "execution_count": null,
   "metadata": {},
   "outputs": [
    {
     "ename": "",
     "evalue": "",
     "output_type": "error",
     "traceback": [
      "\u001b[1;31mThe file 'lib\\site-packages\\traitlets\\utils\\__init__.py' seems to be overriding built in modules and interfering with the startup of the kernel. Consider renaming the file and starting the kernel again.\n",
      "자세한 내용을 보려면 <a href='https://aka.ms/kernelFailuresOverridingBuiltInModules'>여기</a>를 클릭합니다."
     ]
    }
   ],
   "source": [
    "from selenium import webdriver\n",
    "from selenium.webdriver.common.by import By\n",
    "from selenium.webdriver.common.keys import Keys\n",
    "\n",
    "import requests"
   ]
  }
 ],
 "metadata": {
  "kernelspec": {
   "display_name": "gu",
   "language": "python",
   "name": "gu"
  },
  "language_info": {
   "name": "python",
   "version": "3.8.10"
  },
  "orig_nbformat": 4,
  "vscode": {
   "interpreter": {
    "hash": "c5d72ca2e68c072c7c3e4b2079fef55637b452407fe5ee1cd64d2f57ca6685a9"
   }
  }
 },
 "nbformat": 4,
 "nbformat_minor": 2
}
